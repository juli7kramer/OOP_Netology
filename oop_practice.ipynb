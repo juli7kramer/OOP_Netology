{
 "cells": [
  {
   "cell_type": "markdown",
   "metadata": {},
   "source": [
    "# ООП-1\n",
    "\n",
    "Булыгин Олег:  \n",
    "* [LinkedIn](linkedin.com/in/obulygin)  \n",
    "* [Мой канал в ТГ по Python](https://t.me/pythontalk_ru)"
   ]
  },
  {
   "cell_type": "code",
   "execution_count": 1,
   "metadata": {},
   "outputs": [
    {
     "name": "stdout",
     "output_type": "stream",
     "text": [
      "<class 'str'>\n"
     ]
    }
   ],
   "source": [
    "print(type('Hello world'))"
   ]
  },
  {
   "cell_type": "code",
   "execution_count": 2,
   "metadata": {},
   "outputs": [
    {
     "name": "stdout",
     "output_type": "stream",
     "text": [
      "['__add__', '__class__', '__contains__', '__delattr__', '__dir__', '__doc__', '__eq__', '__format__', '__ge__', '__getattribute__', '__getitem__', '__getnewargs__', '__gt__', '__hash__', '__init__', '__init_subclass__', '__iter__', '__le__', '__len__', '__lt__', '__mod__', '__mul__', '__ne__', '__new__', '__reduce__', '__reduce_ex__', '__repr__', '__rmod__', '__rmul__', '__setattr__', '__sizeof__', '__str__', '__subclasshook__', 'capitalize', 'casefold', 'center', 'count', 'encode', 'endswith', 'expandtabs', 'find', 'format', 'format_map', 'index', 'isalnum', 'isalpha', 'isascii', 'isdecimal', 'isdigit', 'isidentifier', 'islower', 'isnumeric', 'isprintable', 'isspace', 'istitle', 'isupper', 'join', 'ljust', 'lower', 'lstrip', 'maketrans', 'partition', 'removeprefix', 'removesuffix', 'replace', 'rfind', 'rindex', 'rjust', 'rpartition', 'rsplit', 'rstrip', 'split', 'splitlines', 'startswith', 'strip', 'swapcase', 'title', 'translate', 'upper', 'zfill']\n"
     ]
    }
   ],
   "source": [
    "# при помощи функции dir мы можем посмотреть все методы класса\n",
    "print(dir(str))"
   ]
  },
  {
   "cell_type": "markdown",
   "metadata": {},
   "source": [
    "Создаем свой первый класс. Он пустой, но работает!"
   ]
  },
  {
   "cell_type": "code",
   "execution_count": 3,
   "metadata": {},
   "outputs": [],
   "source": [
    "class Character:\n",
    "    pass"
   ]
  },
  {
   "cell_type": "markdown",
   "metadata": {},
   "source": [
    "Объект — отдельный представитель класса, имеющий конкретное состояние и поведение, полностью определяемое классом."
   ]
  },
  {
   "cell_type": "code",
   "execution_count": 4,
   "metadata": {},
   "outputs": [
    {
     "name": "stdout",
     "output_type": "stream",
     "text": [
      "<class '__main__.Character'>\n"
     ]
    }
   ],
   "source": [
    "peter = Character()\n",
    "\n",
    "print(type(peter))"
   ]
  },
  {
   "cell_type": "markdown",
   "metadata": {},
   "source": [
    "Атрибуты — переменные внутри класса, которая хранит какую-то информацию, о нем.\n"
   ]
  },
  {
   "cell_type": "code",
   "execution_count": 5,
   "metadata": {},
   "outputs": [],
   "source": [
    "# добавим нашему классу несколько атрибутов\n",
    "class Character:\n",
    "    name = ''\n",
    "    power = 0 \n",
    "    energy = 100\n",
    "    hands = 2\n",
    "    "
   ]
  },
  {
   "cell_type": "code",
   "execution_count": 6,
   "metadata": {},
   "outputs": [
    {
     "name": "stdout",
     "output_type": "stream",
     "text": [
      "{'__module__': '__main__', 'name': '', 'power': 0, 'energy': 100, 'hands': 2, '__dict__': <attribute '__dict__' of 'Character' objects>, '__weakref__': <attribute '__weakref__' of 'Character' objects>, '__doc__': None}\n"
     ]
    }
   ],
   "source": [
    "# а где хранятся все атрибуты после объявления класса?\n",
    "print(Character.__dict__)"
   ]
  },
  {
   "cell_type": "code",
   "execution_count": 14,
   "metadata": {},
   "outputs": [
    {
     "name": "stdout",
     "output_type": "stream",
     "text": [
      "\n",
      "0\n",
      "100\n",
      "2\n",
      "{}\n"
     ]
    }
   ],
   "source": [
    "# при вызове класса мы всегда создаем новый объект\n",
    "# у конкретного экземпляра будут все те же атрибуты, что и у его класса\n",
    "peter = Character()\n",
    "print(peter.name)\n",
    "print(peter.power)\n",
    "print(peter.energy)\n",
    "print(peter.hands)\n",
    "\n",
    "# они берутся именно из Character.__dict__ (т.к. не менялись)\n",
    "print(peter.__dict__)"
   ]
  },
  {
   "cell_type": "code",
   "execution_count": 9,
   "metadata": {},
   "outputs": [],
   "source": [
    "# мы можем экземпляру присвоить свои атрибуты\n",
    "peter.name = 'Peter Parker'\n",
    "peter.power = 70"
   ]
  },
  {
   "cell_type": "code",
   "execution_count": 10,
   "metadata": {},
   "outputs": [
    {
     "name": "stdout",
     "output_type": "stream",
     "text": [
      "Spider-Man\n"
     ]
    }
   ],
   "source": [
    "# и даже те, которых изначально в классе нет\n",
    "peter.alias = 'Spider-Man'\n",
    "print(peter.alias)"
   ]
  },
  {
   "cell_type": "code",
   "execution_count": 12,
   "metadata": {},
   "outputs": [
    {
     "name": "stdout",
     "output_type": "stream",
     "text": [
      "{'name': 'Peter Parker', 'power': 70, 'alias': 'Spider-Man'}\n"
     ]
    }
   ],
   "source": [
    "# print(peter.name)\n",
    "# print(peter.power)\n",
    "# print(peter.energy)\n",
    "# print(peter.hands)\n",
    "\n",
    "# измененные атрибуты уже будут храниться в словаре самого экземпляра\n",
    "print(peter.__dict__)"
   ]
  },
  {
   "cell_type": "code",
   "execution_count": 15,
   "metadata": {},
   "outputs": [
    {
     "name": "stdout",
     "output_type": "stream",
     "text": [
      "Bruce Wayne\n",
      "85\n",
      "100\n",
      "2\n",
      "Batman\n"
     ]
    }
   ],
   "source": [
    "# создадим еще один экземпляр класса\n",
    "bruce = Character()\n",
    "bruce.name = 'Bruce Wayne'\n",
    "bruce.power = 85\n",
    "bruce.alias = 'Batman'\n",
    "\n",
    "print(bruce.name)\n",
    "print(bruce.power)\n",
    "print(bruce.energy)\n",
    "print(bruce.hands)\n",
    "print(bruce.alias)"
   ]
  },
  {
   "cell_type": "markdown",
   "metadata": {},
   "source": [
    "Придумаем несколько методов для нашего класса\n"
   ]
  },
  {
   "cell_type": "code",
   "execution_count": 16,
   "metadata": {},
   "outputs": [],
   "source": [
    "class Character:\n",
    "    name = ''\n",
    "    power = 0\n",
    "    energy = 100\n",
    "    hands = 2\n",
    "# мы видим, что аргумент self ссылается на конкретный экземпляр класса (который еще не создан).\n",
    "# Его обязательно нужно прописывать, чтобы показывать то, \n",
    "# что все действия будут происходить именно с тем объектом, к которому мы применяем метод    \n",
    "    def eat(self, food):\n",
    "        if self.energy < 100:\n",
    "            self.energy += food\n",
    "        else:\n",
    "            print('Not hungry')\n",
    "    \n",
    "    def do_exercise(self, hours):\n",
    "        if self.energy > 0:\n",
    "            self.energy -= hours * 2\n",
    "            self.power += hours * 2\n",
    "        else:\n",
    "            print('Too tired')\n",
    "    \n",
    "    def change_alias(self, new_alias):\n",
    "        print(self) # просто посмотрим, для чего тут self?\n",
    "        self.alias = new_alias\n",
    "        \n"
   ]
  },
  {
   "cell_type": "code",
   "execution_count": 17,
   "metadata": {},
   "outputs": [],
   "source": [
    "# еще раз проиницаилизируем создание экземпляра\n",
    "bruce = Character()\n",
    "bruce.name = 'Bruce Wayne'\n",
    "bruce.power = 85"
   ]
  },
  {
   "cell_type": "code",
   "execution_count": 18,
   "metadata": {},
   "outputs": [
    {
     "ename": "AttributeError",
     "evalue": "'Character' object has no attribute 'alias'",
     "output_type": "error",
     "traceback": [
      "\u001b[0;31m---------------------------------------------------------------------------\u001b[0m",
      "\u001b[0;31mAttributeError\u001b[0m                            Traceback (most recent call last)",
      "\u001b[0;32m/tmp/ipykernel_31387/1271780915.py\u001b[0m in \u001b[0;36m<module>\u001b[0;34m\u001b[0m\n\u001b[1;32m      1\u001b[0m \u001b[0;31m# пока нет псевдонима\u001b[0m\u001b[0;34m\u001b[0m\u001b[0;34m\u001b[0m\u001b[0m\n\u001b[0;32m----> 2\u001b[0;31m \u001b[0mprint\u001b[0m\u001b[0;34m(\u001b[0m\u001b[0mbruce\u001b[0m\u001b[0;34m.\u001b[0m\u001b[0malias\u001b[0m\u001b[0;34m)\u001b[0m\u001b[0;34m\u001b[0m\u001b[0;34m\u001b[0m\u001b[0m\n\u001b[0m",
      "\u001b[0;31mAttributeError\u001b[0m: 'Character' object has no attribute 'alias'"
     ]
    }
   ],
   "source": [
    "# пока нет псевдонима\n",
    "print(bruce.alias)"
   ]
  },
  {
   "cell_type": "code",
   "execution_count": 19,
   "metadata": {},
   "outputs": [
    {
     "name": "stdout",
     "output_type": "stream",
     "text": [
      "<__main__.Character object at 0x7f06c4741850>\n",
      "Batman\n"
     ]
    }
   ],
   "source": [
    "# добавим псевдоним\n",
    "bruce.change_alias('Batman')\n",
    "print(bruce.alias)"
   ]
  },
  {
   "cell_type": "code",
   "execution_count": 20,
   "metadata": {},
   "outputs": [
    {
     "name": "stdout",
     "output_type": "stream",
     "text": [
      "<__main__.Character object at 0x7f06c4741850>\n",
      "Dark Knight\n"
     ]
    }
   ],
   "source": [
    "# изменим псевдоним\n",
    "bruce.change_alias('Dark Knight')\n",
    "print(bruce.alias)"
   ]
  },
  {
   "cell_type": "markdown",
   "metadata": {},
   "source": [
    "Проблема с инициализацией параметров изменяемыми типами"
   ]
  },
  {
   "cell_type": "code",
   "execution_count": 26,
   "metadata": {},
   "outputs": [],
   "source": [
    "class Character:\n",
    "    name = ''\n",
    "    power = 0\n",
    "    energy = 0\n",
    "    hands = 2\n",
    "    backpack = [] # добавляем атрибут с изменяемым типом – списком\n",
    "    \n",
    "    def eat(self, food):\n",
    "        if self.energy < 100:\n",
    "            self.energy += food\n",
    "        else:\n",
    "            print('Not hungry')\n",
    "        \n",
    "    \n",
    "    def do_exercise(self, hours):\n",
    "        if self.energy > 0:\n",
    "            self.energy -= hours * 2\n",
    "            self.power += hours * 2\n",
    "        else:\n",
    "            print('Too tired')\n",
    "    \n",
    "    def change_alias(self, new_alias):\n",
    "        self.alias = new_alias"
   ]
  },
  {
   "cell_type": "code",
   "execution_count": 27,
   "metadata": {},
   "outputs": [],
   "source": [
    "peter = Character()\n",
    "bruce = Character()\n",
    "\n",
    "peter.backpack.append('web-shooters') # дадим Питеру веб-шутеры"
   ]
  },
  {
   "cell_type": "code",
   "execution_count": 28,
   "metadata": {},
   "outputs": [
    {
     "name": "stdout",
     "output_type": "stream",
     "text": [
      "['web-shooters']\n"
     ]
    }
   ],
   "source": [
    "# проверяем\n",
    "\n",
    "print(peter.backpack)"
   ]
  },
  {
   "cell_type": "code",
   "execution_count": 29,
   "metadata": {},
   "outputs": [
    {
     "name": "stdout",
     "output_type": "stream",
     "text": [
      "['web-shooters']\n"
     ]
    }
   ],
   "source": [
    "# а что с Бэтманом?\n",
    "print(bruce.backpack)"
   ]
  },
  {
   "cell_type": "code",
   "execution_count": 31,
   "metadata": {},
   "outputs": [
    {
     "name": "stdout",
     "output_type": "stream",
     "text": [
      "{'__module__': '__main__', 'name': '', 'power': 0, 'energy': 0, 'hands': 2, 'backpack': ['web-shooters'], 'eat': <function Character.eat at 0x7f06c4744430>, 'do_exercise': <function Character.do_exercise at 0x7f06c47444c0>, 'change_alias': <function Character.change_alias at 0x7f06c4744550>, '__dict__': <attribute '__dict__' of 'Character' objects>, '__weakref__': <attribute '__weakref__' of 'Character' objects>, '__doc__': None}\n"
     ]
    }
   ],
   "source": [
    "# значение инициализируется при создании класса, а изменяемые типы ссылаются на один и тот же объект в памяти\n",
    "# т.е. они будут общими у экземпляров класса. \n",
    "# Поэтому никогда не нужно делать изменяемые типы значениями по-умолчанию\n",
    "\n",
    "print(Character.__dict__)"
   ]
  },
  {
   "cell_type": "markdown",
   "metadata": {},
   "source": [
    "Магический метод __init__ позволяет задать атрибуты при инициализации экземпляра класса, а также решить проблему, указанную выше"
   ]
  },
  {
   "cell_type": "code",
   "execution_count": 42,
   "metadata": {},
   "outputs": [],
   "source": [
    "class Character:\n",
    "    def __init__(self, name, power, energy=100, hands=2):\n",
    "        # параметром по-умолчанию backpack делать не будем, чтобы он не был общим\n",
    "        self.name = name\n",
    "        self.power = power\n",
    "        self.energy = energy\n",
    "        self.backpack = [] # будем присваивать пустой список именно для КОНКРЕТНОГО экземпляра при создании (self)\n",
    "        self.hands = hands\n",
    "\n",
    "    def eat(self, food):\n",
    "        if self.energy < 100:\n",
    "            self.energy += food\n",
    "        else:\n",
    "            print('Not hungry')        \n",
    "    \n",
    "    def do_exercise(self, hours):\n",
    "        if self.energy > 0:\n",
    "            self.energy -= hours * 2\n",
    "            self.power += hours * 2\n",
    "        else:\n",
    "            print('Too tired')\n",
    "    \n",
    "    def change_alias(self, new_alias):\n",
    "        self.alias = new_alias\n",
    "        "
   ]
  },
  {
   "cell_type": "code",
   "execution_count": 43,
   "metadata": {},
   "outputs": [
    {
     "name": "stdout",
     "output_type": "stream",
     "text": [
      "Peter Parker\n",
      "80\n",
      "2\n"
     ]
    }
   ],
   "source": [
    "# теперь при создании экземпляра класса нам надо обязательно передать аргументы\n",
    "# peter = Character()\n",
    "peter = Character('Peter Parker', 80)\n",
    "bruce = Character('Bruce Wayne', 85)\n",
    "print(peter.name)\n",
    "print(peter.power)\n",
    "#если они не заданы по умолчанию\n",
    "print(peter.hands)"
   ]
  },
  {
   "cell_type": "code",
   "execution_count": 44,
   "metadata": {},
   "outputs": [
    {
     "name": "stdout",
     "output_type": "stream",
     "text": [
      "{'name': 'Peter Parker', 'power': 80, 'energy': 100, 'backpack': [], 'hands': 2}\n"
     ]
    }
   ],
   "source": [
    "# при таком раскладе (init) все атрибуты сразу же попадают в словарь экземпляра (а не только измененные)\n",
    "print(peter.__dict__) "
   ]
  },
  {
   "cell_type": "code",
   "execution_count": 45,
   "metadata": {},
   "outputs": [
    {
     "name": "stdout",
     "output_type": "stream",
     "text": [
      "{'__module__': '__main__', '__init__': <function Character.__init__ at 0x7f06c47441f0>, 'eat': <function Character.eat at 0x7f06c4744820>, 'do_exercise': <function Character.do_exercise at 0x7f06c4744dc0>, 'change_alias': <function Character.change_alias at 0x7f06c4744280>, '__dict__': <attribute '__dict__' of 'Character' objects>, '__weakref__': <attribute '__weakref__' of 'Character' objects>, '__doc__': None}\n"
     ]
    }
   ],
   "source": [
    "print(Character.__dict__) "
   ]
  },
  {
   "cell_type": "code",
   "execution_count": 47,
   "metadata": {},
   "outputs": [],
   "source": [
    "# плюс мы решим проблемы общих изменяемых атрибутов\n",
    "peter.backpack.append('web-shooters')"
   ]
  },
  {
   "cell_type": "code",
   "execution_count": 48,
   "metadata": {},
   "outputs": [
    {
     "name": "stdout",
     "output_type": "stream",
     "text": [
      "['web-shooters', 'web-shooters']\n",
      "[]\n"
     ]
    }
   ],
   "source": [
    "print(peter.backpack)\n",
    "print(bruce.backpack)"
   ]
  },
  {
   "cell_type": "markdown",
   "metadata": {},
   "source": [
    "Итого: в init будем прописывать то, что хотим задавать при инициализации экзмепляров класса. Все атрибуты с изменямыми значениями по-умолчанию, которые по плану будут общие для всех экзмепляров можно прописывать без него"
   ]
  },
  {
   "cell_type": "markdown",
   "metadata": {},
   "source": [
    "Взаимодействия классов: посмотрим на основе сложения"
   ]
  },
  {
   "cell_type": "code",
   "execution_count": 49,
   "metadata": {},
   "outputs": [],
   "source": [
    "num1 = 5\n",
    "num2 = 10"
   ]
  },
  {
   "cell_type": "code",
   "execution_count": 50,
   "metadata": {},
   "outputs": [
    {
     "name": "stdout",
     "output_type": "stream",
     "text": [
      "<class 'int'>\n"
     ]
    }
   ],
   "source": [
    "# числа являются экземплярами класса int\n",
    "print(type(num1))"
   ]
  },
  {
   "cell_type": "code",
   "execution_count": 51,
   "metadata": {},
   "outputs": [
    {
     "name": "stdout",
     "output_type": "stream",
     "text": [
      "15\n"
     ]
    }
   ],
   "source": [
    "print(num1 + num2)"
   ]
  },
  {
   "cell_type": "code",
   "execution_count": 52,
   "metadata": {},
   "outputs": [
    {
     "name": "stdout",
     "output_type": "stream",
     "text": [
      "15\n"
     ]
    }
   ],
   "source": [
    "# на самом деле происходит следующее\n",
    "print(num1.__add__(num2))"
   ]
  },
  {
   "cell_type": "code",
   "execution_count": 53,
   "metadata": {},
   "outputs": [],
   "source": [
    "class Character:\n",
    "    def __init__(self, name, power, energy=100, hands=2):\n",
    "        self.name = name\n",
    "        self.power = power\n",
    "        self.energy = energy\n",
    "        self.backpack = []\n",
    "        self.hands = hands\n",
    "    \n",
    "    def eat(self, food):\n",
    "        if self.energy < 100:\n",
    "            self.energy += food\n",
    "        else:\n",
    "            print('Not hungry')\n",
    "        \n",
    "    def do_exercise(self, hours):\n",
    "        if self.energy > 0:\n",
    "            self.energy -= hours * 2\n",
    "            self.power += hours * 2\n",
    "        else:\n",
    "            print('Too tired')\n",
    "    \n",
    "    def change_alias(self, new_alias):\n",
    "        self.alias = new_alias\n",
    "\n",
    "    # в методы мы без проблем можем передавать другие объекты и с ними взаимодействовать  \n",
    "    def beat_up(self, foe):\n",
    "        if not isinstance(foe, Character): # проверка является ли объект экземпляром указанного класса\n",
    "            return\n",
    "        if foe.power < self.power:\n",
    "            foe.status = 'defeated'\n",
    "            self.status = 'winner'\n",
    "        else:\n",
    "            print('Retreat!')"
   ]
  },
  {
   "cell_type": "code",
   "execution_count": 54,
   "metadata": {},
   "outputs": [],
   "source": [
    "peter = Character('Peter Parker', 80)\n",
    "bruce = Character('Bruce Wayne', 85)"
   ]
  },
  {
   "cell_type": "code",
   "execution_count": 55,
   "metadata": {},
   "outputs": [],
   "source": [
    "bruce.beat_up(peter)"
   ]
  },
  {
   "cell_type": "code",
   "execution_count": 56,
   "metadata": {},
   "outputs": [
    {
     "name": "stdout",
     "output_type": "stream",
     "text": [
      "defeated\n",
      "winner\n"
     ]
    }
   ],
   "source": [
    "print(peter.status)\n",
    "print(bruce.status)"
   ]
  },
  {
   "cell_type": "code",
   "execution_count": 57,
   "metadata": {},
   "outputs": [
    {
     "name": "stdout",
     "output_type": "stream",
     "text": [
      "Retreat!\n"
     ]
    }
   ],
   "source": [
    "peter.beat_up(bruce)"
   ]
  },
  {
   "cell_type": "code",
   "execution_count": null,
   "metadata": {},
   "outputs": [],
   "source": []
  }
 ],
 "metadata": {
  "kernelspec": {
   "display_name": "Python 3 (ipykernel)",
   "language": "python",
   "name": "python3"
  },
  "language_info": {
   "codemirror_mode": {
    "name": "ipython",
    "version": 3
   },
   "file_extension": ".py",
   "mimetype": "text/x-python",
   "name": "python",
   "nbconvert_exporter": "python",
   "pygments_lexer": "ipython3",
   "version": "3.9.7"
  },
  "toc": {
   "base_numbering": 1,
   "nav_menu": {},
   "number_sections": false,
   "sideBar": true,
   "skip_h1_title": false,
   "title_cell": "Table of Contents",
   "title_sidebar": "Contents",
   "toc_cell": false,
   "toc_position": {},
   "toc_section_display": true,
   "toc_window_display": false
  }
 },
 "nbformat": 4,
 "nbformat_minor": 4
}
